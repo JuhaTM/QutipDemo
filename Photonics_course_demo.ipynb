{
 "cells": [
  {
   "cell_type": "markdown",
   "metadata": {},
   "source": [
    "# Notebook prepared for Photonics course, spring 2021. \n",
    "## Juha Muhonen"
   ]
  },
  {
   "cell_type": "markdown",
   "metadata": {},
   "source": [
    "We shall cover the basics of using qutip to study different optical states and for studying the Jaynes-Cummings Hamiltonian. Of course numerical methods are roughly the same whatever tool you use, but for Python we have our disposal quite a few ready made packages for quantum optics and/or quantum information calculations such as QuTiP (http://qutip.org/) and Qiskit (https://qiskit.org/). Qiskit is more focussed on quantum computing algorithms where as qutip is more a \"general purpose\" toolbox for quantum system modelling, including optical states and Jaynes-Cummings model."
   ]
  },
  {
   "cell_type": "code",
   "execution_count": null,
   "metadata": {},
   "outputs": [],
   "source": []
  }
 ],
 "metadata": {
  "kernelspec": {
   "display_name": "Python 3",
   "language": "python",
   "name": "python3"
  },
  "language_info": {
   "codemirror_mode": {
    "name": "ipython",
    "version": 3
   },
   "file_extension": ".py",
   "mimetype": "text/x-python",
   "name": "python",
   "nbconvert_exporter": "python",
   "pygments_lexer": "ipython3",
   "version": "3.7.1"
  }
 },
 "nbformat": 4,
 "nbformat_minor": 5
}
